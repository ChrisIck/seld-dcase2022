{
 "cells": [
  {
   "cell_type": "code",
   "execution_count": 1,
   "metadata": {},
   "outputs": [],
   "source": [
    "import os\n",
    "import numpy as np\n",
    "from shutil import copytree\n",
    "dataset_output = '/scratch/ci411/SELD_Datasets'"
   ]
  },
  {
   "cell_type": "code",
   "execution_count": 2,
   "metadata": {},
   "outputs": [],
   "source": [
    "def generate_dataset(name, output_dir=dataset_output):\n",
    "    dataset_dir = os.path.join(output_dir, name)\n",
    "    if not os.path.exists(dataset_dir):\n",
    "        os.mkdir(dataset_dir)\n",
    "    default_dirs = ['mic_dev', 'foa_dev', 'metadata_dev']\n",
    "    for directory in default_dirs:\n",
    "        path = os.path.join(dataset_dir, directory)\n",
    "        if not os.path.exists(path):\n",
    "            os.mkdir(path)\n",
    "    print(f\"Dataset created at {dataset_dir}\")\n",
    "    return dataset_dir"
   ]
  },
  {
   "cell_type": "code",
   "execution_count": 3,
   "metadata": {},
   "outputs": [],
   "source": [
    "def check_folds(root):\n",
    "    all_folds = []\n",
    "    for path, subdirs, files in os.walk(root):\n",
    "        fold_list = [int(file[4]) for file in files]\n",
    "        folds = list(set(fold_list))\n",
    "        print(f\"Folds {folds} in {path}\")\n",
    "        all_folds += folds\n",
    "    all_folds = set(all_folds)\n",
    "    return all_folds"
   ]
  },
  {
   "cell_type": "code",
   "execution_count": 4,
   "metadata": {},
   "outputs": [
    {
     "name": "stdout",
     "output_type": "stream",
     "text": [
      "Folds [] in /scratch/ci411/STARSS2022/mic_dev\n",
      "Folds [4] in /scratch/ci411/STARSS2022/mic_dev/dev-test-tau\n",
      "Folds [3] in /scratch/ci411/STARSS2022/mic_dev/dev-train-tau\n",
      "Folds [4] in /scratch/ci411/STARSS2022/mic_dev/dev-test-sony\n",
      "Folds [3] in /scratch/ci411/STARSS2022/mic_dev/dev-train-sony\n"
     ]
    },
    {
     "data": {
      "text/plain": [
       "{3, 4}"
      ]
     },
     "execution_count": 4,
     "metadata": {},
     "output_type": "execute_result"
    }
   ],
   "source": [
    "check_folds('/scratch/ci411/STARSS2022/mic_dev')"
   ]
  },
  {
   "cell_type": "code",
   "execution_count": 5,
   "metadata": {},
   "outputs": [
    {
     "name": "stdout",
     "output_type": "stream",
     "text": [
      "Folds [1, 2] in /scratch/ci411/DCASE_GEN/mixtures/tau_fsd50k_sim/metadata\n"
     ]
    },
    {
     "data": {
      "text/plain": [
       "{1, 2}"
      ]
     },
     "execution_count": 5,
     "metadata": {},
     "output_type": "execute_result"
    }
   ],
   "source": [
    "check_folds('/scratch/ci411/DCASE_GEN/mixtures/tau_fsd50k_sim/metadata')"
   ]
  },
  {
   "cell_type": "code",
   "execution_count": 6,
   "metadata": {},
   "outputs": [],
   "source": [
    "def move_data(set_name, source_aud, source_meta, dataset_target):\n",
    "    aud_files = os.listdir(source_aud)\n",
    "    meta_files = os.listdir(source_meta)\n",
    "    aud_filenames = [file.split('.')[0] for file in aud_files]\n",
    "    meta_filenames = [file.split('.')[0] for file in meta_files]\n",
    "    aud_filenames.sort()\n",
    "    meta_filenames.sort()\n",
    "    assert aud_filenames==meta_filenames\n",
    "    \n",
    "    existing_folds = check_folds(os.path.join(dataset_target, 'mic_dev'))\n",
    "    adding_folds = check_folds(source_aud)\n",
    "    if bool(adding_folds & existing_folds):\n",
    "        print(f\"WARNING: Mixing folds from source:{adding_folds} and target:{existing_folds} datasets\")\n",
    "    \n",
    "    dest_aud = os.path.join(dataset_target, 'mic_dev', set_name)\n",
    "    dest_meta = os.path.join(dataset_target, 'metadata_dev', set_name)\n",
    "    \n",
    "    print(f\"Copying from {source_aud} to {dest_aud}\")\n",
    "    copytree(source_aud, dest_aud, dirs_exist_ok=True)\n",
    "    print(f\"Copying from {source_meta} to {dest_meta}\")\n",
    "    copytree(source_meta, dest_meta, dirs_exist_ok=True)\n",
    "    "
   ]
  },
  {
   "cell_type": "code",
   "execution_count": 15,
   "metadata": {},
   "outputs": [
    {
     "name": "stdout",
     "output_type": "stream",
     "text": [
      "Dataset created at /scratch/ci411/SELD_Datasets/TNR_0518\n",
      "Folds [] in /scratch/ci411/SELD_Datasets/TNR_0518/mic_dev\n",
      "Folds [1, 2] in /scratch/ci411/SELD_Datasets/TNR_0518/mic_dev/tnr_real\n",
      "Folds [3, 4] in /scratch/ci411/SELD_Datasets/TNR_0518/mic_dev/STARSS2022\n",
      "Folds [1, 2] in /scratch/ci411/DCASE_GEN/mixtures/nigens_tau_real/target_noiseless/mic\n",
      "WARNING: Mixing folds from source:{1, 2} and target:{1, 2, 3, 4} datasets\n",
      "Copying from /scratch/ci411/DCASE_GEN/mixtures/nigens_tau_real/target_noiseless/mic to /scratch/ci411/SELD_Datasets/TNR_0518/mic_dev/tnr_real\n",
      "Copying from /scratch/ci411/DCASE_GEN/mixtures/nigens_tau_real/metadata to /scratch/ci411/SELD_Datasets/TNR_0518/metadata_dev/tnr_real\n",
      "Folds [] in /scratch/ci411/SELD_Datasets/TNR_0518/mic_dev\n",
      "Folds [1, 2] in /scratch/ci411/SELD_Datasets/TNR_0518/mic_dev/tnr_real\n",
      "Folds [3, 4] in /scratch/ci411/SELD_Datasets/TNR_0518/mic_dev/STARSS2022\n",
      "Folds [4] in /scratch/ci411/STARSS2022/mic_dev/dev-test-sony\n",
      "WARNING: Mixing folds from source:{4} and target:{1, 2, 3, 4} datasets\n",
      "Copying from /scratch/ci411/STARSS2022/mic_dev/dev-test-sony to /scratch/ci411/SELD_Datasets/TNR_0518/mic_dev/STARSS2022\n",
      "Copying from /scratch/ci411/STARSS2022/metadata_dev/dev-test-sony to /scratch/ci411/SELD_Datasets/TNR_0518/metadata_dev/STARSS2022\n",
      "Folds [] in /scratch/ci411/SELD_Datasets/TNR_0518/mic_dev\n",
      "Folds [1, 2] in /scratch/ci411/SELD_Datasets/TNR_0518/mic_dev/tnr_real\n",
      "Folds [3, 4] in /scratch/ci411/SELD_Datasets/TNR_0518/mic_dev/STARSS2022\n",
      "Folds [3] in /scratch/ci411/STARSS2022/mic_dev/dev-train-sony\n",
      "WARNING: Mixing folds from source:{3} and target:{1, 2, 3, 4} datasets\n",
      "Copying from /scratch/ci411/STARSS2022/mic_dev/dev-train-sony to /scratch/ci411/SELD_Datasets/TNR_0518/mic_dev/STARSS2022\n",
      "Copying from /scratch/ci411/STARSS2022/metadata_dev/dev-train-sony to /scratch/ci411/SELD_Datasets/TNR_0518/metadata_dev/STARSS2022\n",
      "Folds [] in /scratch/ci411/SELD_Datasets/TNR_0518/mic_dev\n",
      "Folds [1, 2] in /scratch/ci411/SELD_Datasets/TNR_0518/mic_dev/tnr_real\n",
      "Folds [3, 4] in /scratch/ci411/SELD_Datasets/TNR_0518/mic_dev/STARSS2022\n",
      "Folds [4] in /scratch/ci411/STARSS2022/mic_dev/dev-test-tau\n",
      "WARNING: Mixing folds from source:{4} and target:{1, 2, 3, 4} datasets\n",
      "Copying from /scratch/ci411/STARSS2022/mic_dev/dev-test-tau to /scratch/ci411/SELD_Datasets/TNR_0518/mic_dev/STARSS2022\n",
      "Copying from /scratch/ci411/STARSS2022/metadata_dev/dev-test-tau to /scratch/ci411/SELD_Datasets/TNR_0518/metadata_dev/STARSS2022\n",
      "Folds [] in /scratch/ci411/SELD_Datasets/TNR_0518/mic_dev\n",
      "Folds [1, 2] in /scratch/ci411/SELD_Datasets/TNR_0518/mic_dev/tnr_real\n",
      "Folds [3, 4] in /scratch/ci411/SELD_Datasets/TNR_0518/mic_dev/STARSS2022\n",
      "Folds [3] in /scratch/ci411/STARSS2022/mic_dev/dev-train-tau\n",
      "WARNING: Mixing folds from source:{3} and target:{1, 2, 3, 4} datasets\n",
      "Copying from /scratch/ci411/STARSS2022/mic_dev/dev-train-tau to /scratch/ci411/SELD_Datasets/TNR_0518/mic_dev/STARSS2022\n",
      "Copying from /scratch/ci411/STARSS2022/metadata_dev/dev-train-tau to /scratch/ci411/SELD_Datasets/TNR_0518/metadata_dev/STARSS2022\n"
     ]
    }
   ],
   "source": [
    "dataset_name = 'TNR_0518'\n",
    "dataset_dir = generate_dataset(dataset_name)\n",
    "\n",
    "tnr_aud = '/scratch/ci411/DCASE_GEN/mixtures/nigens_tau_real/target_noiseless/mic'\n",
    "tnr_meta = '/scratch/ci411/DCASE_GEN/mixtures/nigens_tau_real/metadata'\n",
    "move_data('tnr_real', tnr_aud, tnr_meta, dataset_dir)\n",
    "\n",
    "starss_subfolders = ['dev-test-sony','dev-train-sony','dev-test-tau','dev-train-tau']\n",
    "starss_aud_dir = '/scratch/ci411/STARSS2022/mic_dev'\n",
    "starss_meta_dir = '/scratch/ci411/STARSS2022/metadata_dev'\n",
    "\n",
    "for subfolder in starss_subfolders:\n",
    "    aud_dir = os.path.join(starss_aud_dir, subfolder)\n",
    "    meta_dir = os.path.join(starss_meta_dir, subfolder)\n",
    "    move_data('STARSS2022', aud_dir, meta_dir, dataset_dir)"
   ]
  },
  {
   "cell_type": "code",
   "execution_count": 12,
   "metadata": {},
   "outputs": [
    {
     "name": "stdout",
     "output_type": "stream",
     "text": [
      "Dataset created at /scratch/ci411/SELD_Datasets/TNR_Simulated\n",
      "Folds [] in /scratch/ci411/SELD_Datasets/TNR_Simulated/mic_dev\n",
      "Folds [1, 2] in /scratch/ci411/DCASE_GEN/mixtures/nigens_tau_sim/target_noiseless/mic\n",
      "Copying from /scratch/ci411/DCASE_GEN/mixtures/nigens_tau_sim/target_noiseless/mic to /scratch/ci411/SELD_Datasets/TNR_Simulated/mic_dev/tnr_real\n",
      "Copying from /scratch/ci411/DCASE_GEN/mixtures/nigens_tau_sim/metadata to /scratch/ci411/SELD_Datasets/TNR_Simulated/metadata_dev/tnr_real\n",
      "Folds [] in /scratch/ci411/SELD_Datasets/TNR_Simulated/mic_dev\n",
      "Folds [1, 2] in /scratch/ci411/SELD_Datasets/TNR_Simulated/mic_dev/tnr_real\n",
      "Folds [4] in /scratch/ci411/STARSS2022/mic_dev/dev-test-sony\n",
      "Copying from /scratch/ci411/STARSS2022/mic_dev/dev-test-sony to /scratch/ci411/SELD_Datasets/TNR_Simulated/mic_dev/STARSS2022\n",
      "Copying from /scratch/ci411/STARSS2022/metadata_dev/dev-test-sony to /scratch/ci411/SELD_Datasets/TNR_Simulated/metadata_dev/STARSS2022\n",
      "Folds [] in /scratch/ci411/SELD_Datasets/TNR_Simulated/mic_dev\n",
      "Folds [1, 2] in /scratch/ci411/SELD_Datasets/TNR_Simulated/mic_dev/tnr_real\n",
      "Folds [4] in /scratch/ci411/SELD_Datasets/TNR_Simulated/mic_dev/STARSS2022\n",
      "Folds [3] in /scratch/ci411/STARSS2022/mic_dev/dev-train-sony\n",
      "Copying from /scratch/ci411/STARSS2022/mic_dev/dev-train-sony to /scratch/ci411/SELD_Datasets/TNR_Simulated/mic_dev/STARSS2022\n",
      "Copying from /scratch/ci411/STARSS2022/metadata_dev/dev-train-sony to /scratch/ci411/SELD_Datasets/TNR_Simulated/metadata_dev/STARSS2022\n",
      "Folds [] in /scratch/ci411/SELD_Datasets/TNR_Simulated/mic_dev\n",
      "Folds [1, 2] in /scratch/ci411/SELD_Datasets/TNR_Simulated/mic_dev/tnr_real\n",
      "Folds [3, 4] in /scratch/ci411/SELD_Datasets/TNR_Simulated/mic_dev/STARSS2022\n",
      "Folds [4] in /scratch/ci411/STARSS2022/mic_dev/dev-test-tau\n",
      "WARNING: Mixing folds from source:{4} and target:{1, 2, 3, 4} datasets, terminating\n",
      "Copying from /scratch/ci411/STARSS2022/mic_dev/dev-test-tau to /scratch/ci411/SELD_Datasets/TNR_Simulated/mic_dev/STARSS2022\n",
      "Copying from /scratch/ci411/STARSS2022/metadata_dev/dev-test-tau to /scratch/ci411/SELD_Datasets/TNR_Simulated/metadata_dev/STARSS2022\n",
      "Folds [] in /scratch/ci411/SELD_Datasets/TNR_Simulated/mic_dev\n",
      "Folds [1, 2] in /scratch/ci411/SELD_Datasets/TNR_Simulated/mic_dev/tnr_real\n",
      "Folds [3, 4] in /scratch/ci411/SELD_Datasets/TNR_Simulated/mic_dev/STARSS2022\n",
      "Folds [3] in /scratch/ci411/STARSS2022/mic_dev/dev-train-tau\n",
      "WARNING: Mixing folds from source:{3} and target:{1, 2, 3, 4} datasets, terminating\n",
      "Copying from /scratch/ci411/STARSS2022/mic_dev/dev-train-tau to /scratch/ci411/SELD_Datasets/TNR_Simulated/mic_dev/STARSS2022\n",
      "Copying from /scratch/ci411/STARSS2022/metadata_dev/dev-train-tau to /scratch/ci411/SELD_Datasets/TNR_Simulated/metadata_dev/STARSS2022\n"
     ]
    }
   ],
   "source": [
    "dataset_name = 'TNS_0518'\n",
    "dataset_dir = generate_dataset(dataset_name)\n",
    "\n",
    "tnr_aud = '/scratch/ci411/DCASE_GEN/mixtures/nigens_tau_sim/target_noiseless/mic'\n",
    "tnr_meta = '/scratch/ci411/DCASE_GEN/mixtures/nigens_tau_sim/metadata'\n",
    "move_data('tnr_real', tnr_aud, tnr_meta, dataset_dir)\n",
    "\n",
    "starss_subfolders = ['dev-test-sony','dev-train-sony','dev-test-tau','dev-train-tau']\n",
    "starss_aud_dir = '/scratch/ci411/STARSS2022/mic_dev'\n",
    "starss_meta_dir = '/scratch/ci411/STARSS2022/metadata_dev'\n",
    "\n",
    "for subfolder in starss_subfolders:\n",
    "    aud_dir = os.path.join(starss_aud_dir, subfolder)\n",
    "    meta_dir = os.path.join(starss_meta_dir, subfolder)\n",
    "    move_data('STARSS2022', aud_dir, meta_dir, dataset_dir)"
   ]
  },
  {
   "cell_type": "code",
   "execution_count": 9,
   "metadata": {},
   "outputs": [
    {
     "name": "stdout",
     "output_type": "stream",
     "text": [
      "Dataset created at /scratch/ci411/SELD_Datasets/TFR_0527\n",
      "Folds [] in /scratch/ci411/SELD_Datasets/TFR_0527/mic_dev\n",
      "Folds [1, 2] in /scratch/ci411/SELD_Datasets/TFR_0527/mic_dev/tnr_real\n",
      "Folds [1, 2] in /scratch/ci411/DCASE_GEN/mixtures/tau_fsd50k_real/target_noiseless/mic\n",
      "WARNING: Mixing folds from source:{1, 2} and target:{1, 2} datasets\n",
      "Copying from /scratch/ci411/DCASE_GEN/mixtures/tau_fsd50k_real/target_noiseless/mic to /scratch/ci411/SELD_Datasets/TFR_0527/mic_dev/tfr_real\n",
      "Copying from /scratch/ci411/DCASE_GEN/mixtures/tau_fsd50k_real/metadata to /scratch/ci411/SELD_Datasets/TFR_0527/metadata_dev/tfr_real\n",
      "Folds [] in /scratch/ci411/SELD_Datasets/TFR_0527/mic_dev\n",
      "Folds [1, 2] in /scratch/ci411/SELD_Datasets/TFR_0527/mic_dev/tnr_real\n",
      "Folds [1, 2] in /scratch/ci411/SELD_Datasets/TFR_0527/mic_dev/tfr_real\n",
      "Folds [4] in /scratch/ci411/STARSS2022/mic_dev/dev-test-sony\n",
      "Copying from /scratch/ci411/STARSS2022/mic_dev/dev-test-sony to /scratch/ci411/SELD_Datasets/TFR_0527/mic_dev/STARSS2022\n",
      "Copying from /scratch/ci411/STARSS2022/metadata_dev/dev-test-sony to /scratch/ci411/SELD_Datasets/TFR_0527/metadata_dev/STARSS2022\n",
      "Folds [] in /scratch/ci411/SELD_Datasets/TFR_0527/mic_dev\n",
      "Folds [1, 2] in /scratch/ci411/SELD_Datasets/TFR_0527/mic_dev/tnr_real\n",
      "Folds [4] in /scratch/ci411/SELD_Datasets/TFR_0527/mic_dev/STARSS2022\n",
      "Folds [1, 2] in /scratch/ci411/SELD_Datasets/TFR_0527/mic_dev/tfr_real\n",
      "Folds [3] in /scratch/ci411/STARSS2022/mic_dev/dev-train-sony\n",
      "Copying from /scratch/ci411/STARSS2022/mic_dev/dev-train-sony to /scratch/ci411/SELD_Datasets/TFR_0527/mic_dev/STARSS2022\n",
      "Copying from /scratch/ci411/STARSS2022/metadata_dev/dev-train-sony to /scratch/ci411/SELD_Datasets/TFR_0527/metadata_dev/STARSS2022\n",
      "Folds [] in /scratch/ci411/SELD_Datasets/TFR_0527/mic_dev\n",
      "Folds [3, 4] in /scratch/ci411/SELD_Datasets/TFR_0527/mic_dev/STARSS2022\n",
      "Folds [1, 2] in /scratch/ci411/SELD_Datasets/TFR_0527/mic_dev/tfr_real\n",
      "Folds [4] in /scratch/ci411/STARSS2022/mic_dev/dev-test-tau\n",
      "WARNING: Mixing folds from source:{4} and target:{1, 2, 3, 4} datasets\n",
      "Copying from /scratch/ci411/STARSS2022/mic_dev/dev-test-tau to /scratch/ci411/SELD_Datasets/TFR_0527/mic_dev/STARSS2022\n",
      "Copying from /scratch/ci411/STARSS2022/metadata_dev/dev-test-tau to /scratch/ci411/SELD_Datasets/TFR_0527/metadata_dev/STARSS2022\n",
      "Folds [] in /scratch/ci411/SELD_Datasets/TFR_0527/mic_dev\n",
      "Folds [3, 4] in /scratch/ci411/SELD_Datasets/TFR_0527/mic_dev/STARSS2022\n",
      "Folds [1, 2] in /scratch/ci411/SELD_Datasets/TFR_0527/mic_dev/tfr_real\n",
      "Folds [3] in /scratch/ci411/STARSS2022/mic_dev/dev-train-tau\n",
      "WARNING: Mixing folds from source:{3} and target:{1, 2, 3, 4} datasets\n",
      "Copying from /scratch/ci411/STARSS2022/mic_dev/dev-train-tau to /scratch/ci411/SELD_Datasets/TFR_0527/mic_dev/STARSS2022\n",
      "Copying from /scratch/ci411/STARSS2022/metadata_dev/dev-train-tau to /scratch/ci411/SELD_Datasets/TFR_0527/metadata_dev/STARSS2022\n"
     ]
    }
   ],
   "source": [
    "dataset_name = 'TFR_0527'\n",
    "dataset_dir = generate_dataset(dataset_name)\n",
    "\n",
    "tfr_aud = '/scratch/ci411/DCASE_GEN/mixtures/tau_fsd50k_real/target_noiseless/mic'\n",
    "tfr_meta = '/scratch/ci411/DCASE_GEN/mixtures/tau_fsd50k_real/metadata'\n",
    "move_data('tfr_real', tfr_aud, tfr_meta, dataset_dir)\n",
    "\n",
    "starss_subfolders = ['dev-test-sony','dev-train-sony','dev-test-tau','dev-train-tau']\n",
    "starss_aud_dir = '/scratch/ci411/STARSS2022/mic_dev'\n",
    "starss_meta_dir = '/scratch/ci411/STARSS2022/metadata_dev'\n",
    "\n",
    "for subfolder in starss_subfolders:\n",
    "    aud_dir = os.path.join(starss_aud_dir, subfolder)\n",
    "    meta_dir = os.path.join(starss_meta_dir, subfolder)\n",
    "    move_data('STARSS2022', aud_dir, meta_dir, dataset_dir)"
   ]
  },
  {
   "cell_type": "code",
   "execution_count": 10,
   "metadata": {},
   "outputs": [
    {
     "name": "stdout",
     "output_type": "stream",
     "text": [
      "Dataset created at /scratch/ci411/SELD_Datasets/TFS_0527\n",
      "Folds [] in /scratch/ci411/SELD_Datasets/TFS_0527/mic_dev\n",
      "Folds [1, 2] in /scratch/ci411/DCASE_GEN/mixtures/tau_fsd50k_sim/target_noiseless/mic\n",
      "Copying from /scratch/ci411/DCASE_GEN/mixtures/tau_fsd50k_sim/target_noiseless/mic to /scratch/ci411/SELD_Datasets/TFS_0527/mic_dev/tfs_real\n",
      "Copying from /scratch/ci411/DCASE_GEN/mixtures/tau_fsd50k_sim/metadata to /scratch/ci411/SELD_Datasets/TFS_0527/metadata_dev/tfs_real\n",
      "Folds [] in /scratch/ci411/SELD_Datasets/TFS_0527/mic_dev\n",
      "Folds [1, 2] in /scratch/ci411/SELD_Datasets/TFS_0527/mic_dev/tfs_real\n",
      "Folds [4] in /scratch/ci411/STARSS2022/mic_dev/dev-test-sony\n",
      "Copying from /scratch/ci411/STARSS2022/mic_dev/dev-test-sony to /scratch/ci411/SELD_Datasets/TFS_0527/mic_dev/STARSS2022\n",
      "Copying from /scratch/ci411/STARSS2022/metadata_dev/dev-test-sony to /scratch/ci411/SELD_Datasets/TFS_0527/metadata_dev/STARSS2022\n",
      "Folds [] in /scratch/ci411/SELD_Datasets/TFS_0527/mic_dev\n",
      "Folds [4] in /scratch/ci411/SELD_Datasets/TFS_0527/mic_dev/STARSS2022\n",
      "Folds [1, 2] in /scratch/ci411/SELD_Datasets/TFS_0527/mic_dev/tfs_real\n",
      "Folds [3] in /scratch/ci411/STARSS2022/mic_dev/dev-train-sony\n",
      "Copying from /scratch/ci411/STARSS2022/mic_dev/dev-train-sony to /scratch/ci411/SELD_Datasets/TFS_0527/mic_dev/STARSS2022\n",
      "Copying from /scratch/ci411/STARSS2022/metadata_dev/dev-train-sony to /scratch/ci411/SELD_Datasets/TFS_0527/metadata_dev/STARSS2022\n",
      "Folds [] in /scratch/ci411/SELD_Datasets/TFS_0527/mic_dev\n",
      "Folds [3, 4] in /scratch/ci411/SELD_Datasets/TFS_0527/mic_dev/STARSS2022\n",
      "Folds [1, 2] in /scratch/ci411/SELD_Datasets/TFS_0527/mic_dev/tfs_real\n",
      "Folds [4] in /scratch/ci411/STARSS2022/mic_dev/dev-test-tau\n",
      "WARNING: Mixing folds from source:{4} and target:{1, 2, 3, 4} datasets\n",
      "Copying from /scratch/ci411/STARSS2022/mic_dev/dev-test-tau to /scratch/ci411/SELD_Datasets/TFS_0527/mic_dev/STARSS2022\n",
      "Copying from /scratch/ci411/STARSS2022/metadata_dev/dev-test-tau to /scratch/ci411/SELD_Datasets/TFS_0527/metadata_dev/STARSS2022\n",
      "Folds [] in /scratch/ci411/SELD_Datasets/TFS_0527/mic_dev\n",
      "Folds [3, 4] in /scratch/ci411/SELD_Datasets/TFS_0527/mic_dev/STARSS2022\n",
      "Folds [1, 2] in /scratch/ci411/SELD_Datasets/TFS_0527/mic_dev/tfs_real\n",
      "Folds [3] in /scratch/ci411/STARSS2022/mic_dev/dev-train-tau\n",
      "WARNING: Mixing folds from source:{3} and target:{1, 2, 3, 4} datasets\n",
      "Copying from /scratch/ci411/STARSS2022/mic_dev/dev-train-tau to /scratch/ci411/SELD_Datasets/TFS_0527/mic_dev/STARSS2022\n",
      "Copying from /scratch/ci411/STARSS2022/metadata_dev/dev-train-tau to /scratch/ci411/SELD_Datasets/TFS_0527/metadata_dev/STARSS2022\n"
     ]
    }
   ],
   "source": [
    "dataset_name = 'TFS_0527'\n",
    "dataset_dir = generate_dataset(dataset_name)\n",
    "\n",
    "tfs_aud = '/scratch/ci411/DCASE_GEN/mixtures/tau_fsd50k_sim/target_noiseless/mic'\n",
    "tfs_meta = '/scratch/ci411/DCASE_GEN/mixtures/tau_fsd50k_sim/metadata'\n",
    "move_data('tfs_real', tfs_aud, tfs_meta, dataset_dir)\n",
    "\n",
    "starss_subfolders = ['dev-test-sony','dev-train-sony','dev-test-tau','dev-train-tau']\n",
    "starss_aud_dir = '/scratch/ci411/STARSS2022/mic_dev'\n",
    "starss_meta_dir = '/scratch/ci411/STARSS2022/metadata_dev'\n",
    "\n",
    "for subfolder in starss_subfolders:\n",
    "    aud_dir = os.path.join(starss_aud_dir, subfolder)\n",
    "    meta_dir = os.path.join(starss_meta_dir, subfolder)\n",
    "    move_data('STARSS2022', aud_dir, meta_dir, dataset_dir)"
   ]
  },
  {
   "cell_type": "code",
   "execution_count": 7,
   "metadata": {},
   "outputs": [
    {
     "name": "stdout",
     "output_type": "stream",
     "text": [
      "Dataset created at /scratch/ci411/SELD_Datasets/TFR_0601\n",
      "Folds [] in /scratch/ci411/SELD_Datasets/TFR_0601/mic_dev\n",
      "Folds [1, 2] in /scratch/ci411/DCASE_GEN/mixtures/tau_fsd50k_real/target_noiseless/mic\n",
      "Copying from /scratch/ci411/DCASE_GEN/mixtures/tau_fsd50k_real/target_noiseless/mic to /scratch/ci411/SELD_Datasets/TFR_0601/mic_dev/tfr_real\n",
      "Copying from /scratch/ci411/DCASE_GEN/mixtures/tau_fsd50k_real/metadata to /scratch/ci411/SELD_Datasets/TFR_0601/metadata_dev/tfr_real\n",
      "Folds [] in /scratch/ci411/SELD_Datasets/TFR_0601/mic_dev\n",
      "Folds [1, 2] in /scratch/ci411/SELD_Datasets/TFR_0601/mic_dev/tfr_real\n",
      "Folds [4] in /scratch/ci411/STARSS2022/mic_dev/dev-test-sony\n",
      "Copying from /scratch/ci411/STARSS2022/mic_dev/dev-test-sony to /scratch/ci411/SELD_Datasets/TFR_0601/mic_dev/STARSS2022\n",
      "Copying from /scratch/ci411/STARSS2022/metadata_dev/dev-test-sony to /scratch/ci411/SELD_Datasets/TFR_0601/metadata_dev/STARSS2022\n",
      "Folds [] in /scratch/ci411/SELD_Datasets/TFR_0601/mic_dev\n",
      "Folds [4] in /scratch/ci411/SELD_Datasets/TFR_0601/mic_dev/STARSS2022\n",
      "Folds [1, 2] in /scratch/ci411/SELD_Datasets/TFR_0601/mic_dev/tfr_real\n",
      "Folds [3] in /scratch/ci411/STARSS2022/mic_dev/dev-train-sony\n",
      "Copying from /scratch/ci411/STARSS2022/mic_dev/dev-train-sony to /scratch/ci411/SELD_Datasets/TFR_0601/mic_dev/STARSS2022\n",
      "Copying from /scratch/ci411/STARSS2022/metadata_dev/dev-train-sony to /scratch/ci411/SELD_Datasets/TFR_0601/metadata_dev/STARSS2022\n",
      "Folds [] in /scratch/ci411/SELD_Datasets/TFR_0601/mic_dev\n",
      "Folds [3, 4] in /scratch/ci411/SELD_Datasets/TFR_0601/mic_dev/STARSS2022\n",
      "Folds [1, 2] in /scratch/ci411/SELD_Datasets/TFR_0601/mic_dev/tfr_real\n",
      "Folds [4] in /scratch/ci411/STARSS2022/mic_dev/dev-test-tau\n",
      "WARNING: Mixing folds from source:{4} and target:{1, 2, 3, 4} datasets\n",
      "Copying from /scratch/ci411/STARSS2022/mic_dev/dev-test-tau to /scratch/ci411/SELD_Datasets/TFR_0601/mic_dev/STARSS2022\n",
      "Copying from /scratch/ci411/STARSS2022/metadata_dev/dev-test-tau to /scratch/ci411/SELD_Datasets/TFR_0601/metadata_dev/STARSS2022\n",
      "Folds [] in /scratch/ci411/SELD_Datasets/TFR_0601/mic_dev\n",
      "Folds [3, 4] in /scratch/ci411/SELD_Datasets/TFR_0601/mic_dev/STARSS2022\n",
      "Folds [1, 2] in /scratch/ci411/SELD_Datasets/TFR_0601/mic_dev/tfr_real\n",
      "Folds [3] in /scratch/ci411/STARSS2022/mic_dev/dev-train-tau\n",
      "WARNING: Mixing folds from source:{3} and target:{1, 2, 3, 4} datasets\n",
      "Copying from /scratch/ci411/STARSS2022/mic_dev/dev-train-tau to /scratch/ci411/SELD_Datasets/TFR_0601/mic_dev/STARSS2022\n",
      "Copying from /scratch/ci411/STARSS2022/metadata_dev/dev-train-tau to /scratch/ci411/SELD_Datasets/TFR_0601/metadata_dev/STARSS2022\n"
     ]
    }
   ],
   "source": [
    "dataset_name = 'TFR_0601'\n",
    "dataset_dir = generate_dataset(dataset_name)\n",
    "\n",
    "tfr_aud = '/scratch/ci411/DCASE_GEN/mixtures/tau_fsd50k_real/target_noiseless/mic'\n",
    "tfr_meta = '/scratch/ci411/DCASE_GEN/mixtures/tau_fsd50k_real/metadata'\n",
    "move_data('tfr_real', tfr_aud, tfr_meta, dataset_dir)\n",
    "\n",
    "starss_subfolders = ['dev-test-sony','dev-train-sony','dev-test-tau','dev-train-tau']\n",
    "starss_aud_dir = '/scratch/ci411/STARSS2022/mic_dev'\n",
    "starss_meta_dir = '/scratch/ci411/STARSS2022/metadata_dev'\n",
    "\n",
    "for subfolder in starss_subfolders:\n",
    "    aud_dir = os.path.join(starss_aud_dir, subfolder)\n",
    "    meta_dir = os.path.join(starss_meta_dir, subfolder)\n",
    "    move_data('STARSS2022', aud_dir, meta_dir, dataset_dir)"
   ]
  },
  {
   "cell_type": "code",
   "execution_count": 8,
   "metadata": {},
   "outputs": [
    {
     "name": "stdout",
     "output_type": "stream",
     "text": [
      "Dataset created at /scratch/ci411/SELD_Datasets/TFS_0601\n",
      "Folds [] in /scratch/ci411/SELD_Datasets/TFS_0601/mic_dev\n",
      "Folds [1, 2] in /scratch/ci411/DCASE_GEN/mixtures/tau_fsd50k_sim/target_noiseless/mic\n",
      "Copying from /scratch/ci411/DCASE_GEN/mixtures/tau_fsd50k_sim/target_noiseless/mic to /scratch/ci411/SELD_Datasets/TFS_0601/mic_dev/tfs_real\n",
      "Copying from /scratch/ci411/DCASE_GEN/mixtures/tau_fsd50k_sim/metadata to /scratch/ci411/SELD_Datasets/TFS_0601/metadata_dev/tfs_real\n",
      "Folds [] in /scratch/ci411/SELD_Datasets/TFS_0601/mic_dev\n",
      "Folds [1, 2] in /scratch/ci411/SELD_Datasets/TFS_0601/mic_dev/tfs_real\n",
      "Folds [4] in /scratch/ci411/STARSS2022/mic_dev/dev-test-sony\n",
      "Copying from /scratch/ci411/STARSS2022/mic_dev/dev-test-sony to /scratch/ci411/SELD_Datasets/TFS_0601/mic_dev/STARSS2022\n",
      "Copying from /scratch/ci411/STARSS2022/metadata_dev/dev-test-sony to /scratch/ci411/SELD_Datasets/TFS_0601/metadata_dev/STARSS2022\n",
      "Folds [] in /scratch/ci411/SELD_Datasets/TFS_0601/mic_dev\n",
      "Folds [4] in /scratch/ci411/SELD_Datasets/TFS_0601/mic_dev/STARSS2022\n",
      "Folds [1, 2] in /scratch/ci411/SELD_Datasets/TFS_0601/mic_dev/tfs_real\n",
      "Folds [3] in /scratch/ci411/STARSS2022/mic_dev/dev-train-sony\n",
      "Copying from /scratch/ci411/STARSS2022/mic_dev/dev-train-sony to /scratch/ci411/SELD_Datasets/TFS_0601/mic_dev/STARSS2022\n",
      "Copying from /scratch/ci411/STARSS2022/metadata_dev/dev-train-sony to /scratch/ci411/SELD_Datasets/TFS_0601/metadata_dev/STARSS2022\n",
      "Folds [] in /scratch/ci411/SELD_Datasets/TFS_0601/mic_dev\n",
      "Folds [3, 4] in /scratch/ci411/SELD_Datasets/TFS_0601/mic_dev/STARSS2022\n",
      "Folds [1, 2] in /scratch/ci411/SELD_Datasets/TFS_0601/mic_dev/tfs_real\n",
      "Folds [4] in /scratch/ci411/STARSS2022/mic_dev/dev-test-tau\n",
      "WARNING: Mixing folds from source:{4} and target:{1, 2, 3, 4} datasets\n",
      "Copying from /scratch/ci411/STARSS2022/mic_dev/dev-test-tau to /scratch/ci411/SELD_Datasets/TFS_0601/mic_dev/STARSS2022\n",
      "Copying from /scratch/ci411/STARSS2022/metadata_dev/dev-test-tau to /scratch/ci411/SELD_Datasets/TFS_0601/metadata_dev/STARSS2022\n",
      "Folds [] in /scratch/ci411/SELD_Datasets/TFS_0601/mic_dev\n",
      "Folds [3, 4] in /scratch/ci411/SELD_Datasets/TFS_0601/mic_dev/STARSS2022\n",
      "Folds [1, 2] in /scratch/ci411/SELD_Datasets/TFS_0601/mic_dev/tfs_real\n",
      "Folds [3] in /scratch/ci411/STARSS2022/mic_dev/dev-train-tau\n",
      "WARNING: Mixing folds from source:{3} and target:{1, 2, 3, 4} datasets\n",
      "Copying from /scratch/ci411/STARSS2022/mic_dev/dev-train-tau to /scratch/ci411/SELD_Datasets/TFS_0601/mic_dev/STARSS2022\n",
      "Copying from /scratch/ci411/STARSS2022/metadata_dev/dev-train-tau to /scratch/ci411/SELD_Datasets/TFS_0601/metadata_dev/STARSS2022\n"
     ]
    }
   ],
   "source": [
    "dataset_name = 'TFS_0601'\n",
    "dataset_dir = generate_dataset(dataset_name)\n",
    "\n",
    "tfs_aud = '/scratch/ci411/DCASE_GEN/mixtures/tau_fsd50k_sim/target_noiseless/mic'\n",
    "tfs_meta = '/scratch/ci411/DCASE_GEN/mixtures/tau_fsd50k_sim/metadata'\n",
    "move_data('tfs_real', tfs_aud, tfs_meta, dataset_dir)\n",
    "\n",
    "starss_subfolders = ['dev-test-sony','dev-train-sony','dev-test-tau','dev-train-tau']\n",
    "starss_aud_dir = '/scratch/ci411/STARSS2022/mic_dev'\n",
    "starss_meta_dir = '/scratch/ci411/STARSS2022/metadata_dev'\n",
    "\n",
    "for subfolder in starss_subfolders:\n",
    "    aud_dir = os.path.join(starss_aud_dir, subfolder)\n",
    "    meta_dir = os.path.join(starss_meta_dir, subfolder)\n",
    "    move_data('STARSS2022', aud_dir, meta_dir, dataset_dir)"
   ]
  },
  {
   "cell_type": "code",
   "execution_count": null,
   "metadata": {},
   "outputs": [],
   "source": []
  }
 ],
 "metadata": {
  "kernelspec": {
   "display_name": "Python 3",
   "language": "python",
   "name": "python3"
  },
  "language_info": {
   "codemirror_mode": {
    "name": "ipython",
    "version": 3
   },
   "file_extension": ".py",
   "mimetype": "text/x-python",
   "name": "python",
   "nbconvert_exporter": "python",
   "pygments_lexer": "ipython3",
   "version": "3.8.3"
  }
 },
 "nbformat": 4,
 "nbformat_minor": 4
}
